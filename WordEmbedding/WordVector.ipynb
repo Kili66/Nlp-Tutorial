{
 "cells": [
  {
   "cell_type": "code",
   "execution_count": 1,
   "id": "34018a1a",
   "metadata": {},
   "outputs": [],
   "source": [
    "import spacy\n",
    "\n",
    "nlp= spacy.load(\"en_core_web_lg\")\n"
   ]
  },
  {
   "cell_type": "code",
   "execution_count": 4,
   "id": "6225b7ba",
   "metadata": {},
   "outputs": [
    {
     "name": "stdout",
     "output_type": "stream",
     "text": [
      "Dog Vector: True OOV: False\n",
      "cat Vector: True OOV: False\n",
      "banana Vector: True OOV: False\n",
      "hhhxxxgggfff Vector: False OOV: True\n",
      "Mariam Vector: True OOV: False\n"
     ]
    }
   ],
   "source": [
    "doc= nlp(\"Dog cat banana hhhxxxgggfff Mariam\")\n",
    "\n",
    "for token in doc:\n",
    "    print(token.text, \"Vector:\", token.has_vector, \"OOV:\", token.is_oov)\n",
    "    "
   ]
  },
  {
   "cell_type": "code",
   "execution_count": 6,
   "id": "7efce90b",
   "metadata": {},
   "outputs": [
    {
     "data": {
      "text/plain": [
       "array([-1.5014e+00,  3.7842e-01, -6.8348e-01, -4.5517e+00,  3.0911e+00,\n",
       "        2.0027e+00, -5.6748e-01, -1.0901e+01,  6.7435e-01, -6.8039e-01,\n",
       "       -7.2255e+00,  7.5489e+00, -1.2712e+00,  2.7617e+00,  1.7851e+00,\n",
       "       -6.4001e+00,  1.4144e+00,  1.9946e+00, -9.9990e-01,  3.3678e+00,\n",
       "       -7.5677e+00,  5.9907e+00, -4.0408e+00,  2.7273e+00,  4.1589e+00,\n",
       "        7.6712e+00,  5.0029e-01,  1.5240e+00, -7.0513e+00, -5.1952e+00,\n",
       "       -4.5627e-01,  7.4519e+00, -1.0726e+00,  7.1568e+00, -3.2878e+00,\n",
       "       -6.3464e-01, -6.9483e-01,  6.1109e-01, -6.1480e-01, -1.7230e+00,\n",
       "        5.2661e+00, -4.5642e+00,  1.7354e+00,  8.5648e+00, -3.5202e+00,\n",
       "       -5.7125e-01,  3.8643e+00, -1.6150e+00,  3.0737e+00, -5.6266e+00,\n",
       "        2.4669e+00,  1.2790e+01,  3.6751e-01,  8.6420e+00,  2.8424e+00,\n",
       "        2.9639e+00, -5.6498e-01, -1.5203e+00,  3.7887e+00,  3.1022e+00,\n",
       "        1.2619e+00, -3.7348e+00, -3.4008e-01,  1.7438e-01, -9.1072e-02,\n",
       "       -6.7349e+00, -5.4707e+00, -7.5099e-01,  1.3823e+00, -6.8859e+00,\n",
       "        1.2357e+00,  1.8254e+00, -3.2893e+00, -1.3394e+00, -8.0965e-01,\n",
       "        4.8027e-01,  2.5386e+00, -1.8065e+00, -3.5373e+00,  2.2356e+00,\n",
       "        1.0218e+00,  5.4599e+00, -6.6159e+00,  3.2694e+00,  1.9477e-01,\n",
       "       -5.4267e+00,  7.5447e+00,  6.8417e+00, -1.0857e+01,  1.1537e+00,\n",
       "       -1.3902e-03, -8.7752e-01,  1.9043e-01,  5.6748e-01, -3.5643e-01,\n",
       "       -8.6904e-01, -6.7491e-01,  8.0376e+00, -1.1147e+00, -6.1623e+00,\n",
       "       -9.6058e-01, -6.6769e+00,  4.1351e+00,  1.0167e+00,  3.4887e+00,\n",
       "       -3.4758e+00, -5.2836e+00,  1.9589e+00, -3.1327e-01, -1.3713e+00,\n",
       "       -8.5150e-01,  1.1828e+00, -6.3695e-01, -3.8590e-01,  4.6221e+00,\n",
       "       -5.3297e+00, -8.2054e-01, -8.9171e-01,  1.2230e-01,  2.0881e+00,\n",
       "        3.5563e-01,  3.9446e+00, -9.8866e-01, -4.4651e+00, -1.3616e+00,\n",
       "        1.2085e+00, -2.2935e+00,  1.1653e+00, -3.2388e+00, -5.3050e+00,\n",
       "       -1.3683e+00, -1.2698e+00,  3.2473e+00, -3.5331e-01,  3.9030e-01,\n",
       "        7.1570e+00,  7.2191e-01,  6.1283e-01, -8.4128e+00,  2.4205e+00,\n",
       "       -1.9430e+00, -7.9189e-01,  1.4546e-01, -3.5941e+00, -1.2346e+00,\n",
       "        1.3504e+00,  2.4579e+00,  3.8558e-01, -5.8479e+00,  1.9228e+00,\n",
       "        4.7343e+00,  1.7707e+00, -2.4747e+00,  2.6702e+00,  4.6742e+00,\n",
       "        5.3624e-01,  2.8838e+00,  5.7614e-01,  7.7574e+00, -2.8212e+00,\n",
       "        6.2484e+00,  3.6574e+00, -1.7725e+00,  5.5734e-01, -6.9285e+00,\n",
       "       -7.0503e+00, -1.5441e+00, -4.6858e+00,  5.2123e+00, -1.1640e+00,\n",
       "       -6.0959e+00, -2.9706e+00,  1.6243e+00, -9.7934e-02, -1.7656e+00,\n",
       "       -3.2642e+00,  7.0795e+00, -3.9864e+00,  1.8796e+00,  3.1728e+00,\n",
       "        1.0999e-01, -3.2506e+00, -1.8848e+00,  2.2444e+00, -3.7933e+00,\n",
       "        6.2315e+00, -4.3382e+00, -7.7542e+00, -4.2551e+00, -3.3270e+00,\n",
       "       -2.2095e+00,  1.3420e+00,  3.7961e+00,  2.4133e-01,  3.7045e+00,\n",
       "       -5.4061e-01, -1.6492e+00,  5.2345e+00,  2.6420e+00, -5.8876e+00,\n",
       "        3.0542e+00, -9.6807e-01, -1.1120e+00,  4.2439e+00,  2.7751e+00,\n",
       "       -2.9660e+00, -4.9243e+00,  9.4039e-01, -3.9770e-01, -1.9159e+00,\n",
       "       -2.9205e+00,  4.4576e-01, -1.1940e+00, -4.4415e+00, -4.2991e+00,\n",
       "        2.8179e+00, -3.3441e-01, -3.9705e+00,  3.0415e-01, -1.3867e+00,\n",
       "        1.7143e+00,  6.5900e+00, -6.6958e+00,  5.9079e-02,  2.8870e+00,\n",
       "        1.1253e+01,  6.8946e-02,  5.9366e-01,  3.2366e+00,  1.0772e+00,\n",
       "       -2.9011e+00, -2.4956e+00, -2.2638e+00,  4.0025e-01,  6.0687e+00,\n",
       "        3.1637e+00,  4.6093e+00,  2.3530e+00, -2.3301e+00,  6.1576e-01,\n",
       "        6.7370e+00, -5.2811e+00,  6.8371e+00, -2.4449e+00, -3.7046e+00,\n",
       "        5.3885e+00,  4.8662e-01,  3.4949e+00, -6.8160e+00, -4.0721e+00,\n",
       "       -1.1902e+00,  3.0482e+00,  5.3816e+00, -2.6758e+00, -7.1951e+00,\n",
       "        8.7671e-01, -5.2696e+00, -2.2541e+00, -2.6781e+00,  3.0637e+00,\n",
       "        2.3914e+00, -1.3467e+01, -3.5210e-01, -2.6960e+00, -4.8061e+00,\n",
       "       -5.2290e+00, -4.0009e+00, -2.7772e+00,  3.2436e+00, -7.5941e-01,\n",
       "       -4.0016e+00,  3.1708e+00,  5.8128e+00,  6.1593e+00,  4.6687e+00,\n",
       "       -1.2660e+00, -1.2054e+00,  1.5516e-01, -4.0562e+00, -2.6413e+00,\n",
       "        8.3788e+00, -5.8626e+00, -2.1278e+00, -1.4396e+01, -3.3452e+00,\n",
       "        1.6119e+00, -1.1758e+00,  3.8004e+00, -3.7201e+00,  7.3494e-01,\n",
       "        5.0841e+00, -9.3897e+00,  5.2137e+00,  6.0547e+00, -2.4703e+00,\n",
       "       -4.2297e+00, -2.6029e+00,  3.5865e+00, -7.7991e+00,  5.8792e+00],\n",
       "      dtype=float32)"
      ]
     },
     "execution_count": 6,
     "metadata": {},
     "output_type": "execute_result"
    }
   ],
   "source": [
    "doc[0].vector"
   ]
  },
  {
   "cell_type": "code",
   "execution_count": 7,
   "id": "9a6c96c8",
   "metadata": {},
   "outputs": [
    {
     "data": {
      "text/plain": [
       "(300,)"
      ]
     },
     "execution_count": 7,
     "metadata": {},
     "output_type": "execute_result"
    }
   ],
   "source": [
    "doc[0].vector.shape"
   ]
  },
  {
   "cell_type": "code",
   "execution_count": 14,
   "id": "38aec36a",
   "metadata": {},
   "outputs": [
    {
     "data": {
      "text/plain": [
       "(300,)"
      ]
     },
     "execution_count": 14,
     "metadata": {},
     "output_type": "execute_result"
    }
   ],
   "source": [
    "base_token= nlp(\"bread\")\n",
    "\n",
    "base_token[0].vector.shape"
   ]
  },
  {
   "cell_type": "code",
   "execution_count": 17,
   "id": "7116f611",
   "metadata": {},
   "outputs": [
    {
     "name": "stdout",
     "output_type": "stream",
     "text": [
      "bread <-> Bread 1.0\n",
      "sandwich <-> Bread 0.6341067010130894\n",
      "burger <-> Bread 0.47520687769584247\n",
      "car <-> Bread 0.06451532596945217\n",
      "tiger <-> Bread 0.04764611272488976\n",
      "human <-> Bread 0.2151154210812192\n",
      "wheat <-> Bread 0.615036141030184\n"
     ]
    }
   ],
   "source": [
    "doc= nlp(\"bread sandwich burger car tiger human wheat\")\n",
    "\n",
    "for token in doc:\n",
    "    print(f\"{token.text} <-> {base_token.text}\", token.similarity(base_token))"
   ]
  },
  {
   "cell_type": "code",
   "execution_count": 23,
   "id": "73ec74a1",
   "metadata": {},
   "outputs": [],
   "source": [
    "def print_similarity(base_word, words_to_compare):\n",
    "    base_token = nlp(base_word)\n",
    "    doc = nlp(words_to_compare)\n",
    "    for token in doc:\n",
    "        print(f\"{token.text} <-> {base_token.text}: \", token.similarity(base_token))"
   ]
  },
  {
   "cell_type": "code",
   "execution_count": 25,
   "id": "746c1623",
   "metadata": {},
   "outputs": [
    {
     "name": "stdout",
     "output_type": "stream",
     "text": [
      "apple <-> iphone:  0.4387907748060368\n",
      "samsung <-> iphone:  0.6708590303423401\n",
      "iphone <-> iphone:  1.0\n",
      "dog <-> iphone:  0.08211864228011527\n",
      "kitten <-> iphone:  0.10222317834969896\n"
     ]
    }
   ],
   "source": [
    "print_similarity(\"iphone\", \"apple samsung iphone dog kitten\")"
   ]
  },
  {
   "cell_type": "code",
   "execution_count": 26,
   "id": "d619d296",
   "metadata": {},
   "outputs": [],
   "source": [
    "king = nlp.vocab[\"king\"].vector\n",
    "man = nlp.vocab[\"man\"].vector\n",
    "woman = nlp.vocab[\"woman\"].vector\n",
    "queen = nlp.vocab[\"queen\"].vector\n",
    "\n",
    "result = king - man + woman"
   ]
  },
  {
   "cell_type": "code",
   "execution_count": 27,
   "id": "5a1075da",
   "metadata": {},
   "outputs": [
    {
     "data": {
      "text/plain": [
       "array([[0.6178014]], dtype=float32)"
      ]
     },
     "execution_count": 27,
     "metadata": {},
     "output_type": "execute_result"
    }
   ],
   "source": [
    "from sklearn.metrics.pairwise import cosine_similarity\n",
    "cosine_similarity([result],[queen])"
   ]
  },
  {
   "cell_type": "code",
   "execution_count": null,
   "id": "c15b8d2a",
   "metadata": {},
   "outputs": [],
   "source": []
  }
 ],
 "metadata": {
  "kernelspec": {
   "display_name": "Python 3 (ipykernel)",
   "language": "python",
   "name": "python3"
  },
  "language_info": {
   "codemirror_mode": {
    "name": "ipython",
    "version": 3
   },
   "file_extension": ".py",
   "mimetype": "text/x-python",
   "name": "python",
   "nbconvert_exporter": "python",
   "pygments_lexer": "ipython3",
   "version": "3.10.9"
  }
 },
 "nbformat": 4,
 "nbformat_minor": 5
}
