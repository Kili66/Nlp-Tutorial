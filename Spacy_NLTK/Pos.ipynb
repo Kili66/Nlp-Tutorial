{
 "cells": [
  {
   "cell_type": "code",
   "execution_count": 1,
   "id": "8927280a",
   "metadata": {},
   "outputs": [],
   "source": [
    "import spacy"
   ]
  },
  {
   "cell_type": "code",
   "execution_count": 4,
   "id": "c1d58a61",
   "metadata": {},
   "outputs": [],
   "source": [
    "#load english pipeline train model\n",
    "nlp= spacy.load(\"en_core_web_sm\")"
   ]
  },
  {
   "cell_type": "code",
   "execution_count": 9,
   "id": "e442318b",
   "metadata": {},
   "outputs": [
    {
     "data": {
      "text/plain": [
       "['tok2vec', 'tagger', 'parser', 'attribute_ruler', 'lemmatizer', 'ner']"
      ]
     },
     "execution_count": 9,
     "metadata": {},
     "output_type": "execute_result"
    }
   ],
   "source": [
    "nlp.pipe_names"
   ]
  },
  {
   "cell_type": "code",
   "execution_count": 8,
   "id": "659825da",
   "metadata": {},
   "outputs": [
    {
     "name": "stdout",
     "output_type": "stream",
     "text": [
      "Elon | PROPN | proper noun\n",
      "Musk | PROPN | proper noun\n",
      "flow | VERB | verb\n",
      "to | ADP | adposition\n",
      "mars | NOUN | noun\n",
      "yesterday | NOUN | noun\n",
      ". | PUNCT | punctuation\n",
      "He | PRON | pronoun\n",
      "carried | VERB | verb\n",
      "sarma | NOUN | noun\n",
      "with | ADP | adposition\n",
      "him | PRON | pronoun\n"
     ]
    }
   ],
   "source": [
    "doc= nlp(\"Elon Musk flow to mars yesterday. He carried sarma with him\")\n",
    "\n",
    "for token in doc:\n",
    "    print(token, \"|\", token.pos_, \"|\", spacy.explain(token.pos_))"
   ]
  },
  {
   "cell_type": "code",
   "execution_count": 11,
   "id": "0930980b",
   "metadata": {},
   "outputs": [
    {
     "name": "stdout",
     "output_type": "stream",
     "text": [
      "Hey | INTJ | interjection | UH | interjection\n",
      "! | PUNCT | punctuation | . | punctuation mark, sentence closer\n",
      "Elon | PROPN | proper noun | NNP | noun, proper singular\n",
      "Musk | PROPN | proper noun | NNP | noun, proper singular\n",
      "is | AUX | auxiliary | VBZ | verb, 3rd person singular present\n",
      "going | VERB | verb | VBG | verb, gerund or present participle\n",
      "to | PART | particle | TO | infinitival \"to\"\n",
      "fly | VERB | verb | VB | verb, base form\n",
      "somewhere | ADV | adverb | RB | adverb\n",
      "tomorrow | NOUN | noun | NN | noun, singular or mass\n",
      ". | PUNCT | punctuation | . | punctuation mark, sentence closer\n",
      "Oh | INTJ | interjection | UH | interjection\n",
      "non | PROPN | proper noun | NNP | noun, proper singular\n",
      "that | PRON | pronoun | DT | determiner\n",
      "is | AUX | auxiliary | VBZ | verb, 3rd person singular present\n",
      "a | DET | determiner | DT | determiner\n",
      "great | ADJ | adjective | JJ | adjective (English), other noun-modifier (Chinese)\n",
      "new | ADJ | adjective | JJ | adjective (English), other noun-modifier (Chinese)\n"
     ]
    }
   ],
   "source": [
    "doc= nlp(\"Hey! Elon Musk is going to fly somewhere tomorrow. Oh non that is a great new\")\n",
    "\n",
    "for token in doc:\n",
    "    print(token, \"|\", token.pos_, \"|\", spacy.explain(token.pos_),\n",
    "         \"|\", token.tag_, \"|\", spacy.explain(token.tag_))"
   ]
  },
  {
   "cell_type": "code",
   "execution_count": 18,
   "id": "9c54042a",
   "metadata": {},
   "outputs": [
    {
     "data": {
      "text/plain": [
       "('quits', 'VBZ', 'VERB', 'verb, 3rd person singular present')"
      ]
     },
     "execution_count": 18,
     "metadata": {},
     "output_type": "execute_result"
    }
   ],
   "source": [
    "doc = nlp(\"He quits the job\")\n",
    "\n",
    "doc[1].text , doc[1].tag_ , doc[1].pos_ , spacy.explain(doc[1].tag_)"
   ]
  },
  {
   "cell_type": "code",
   "execution_count": 29,
   "id": "5b0065e1",
   "metadata": {},
   "outputs": [],
   "source": [
    "earnings_text=\"\"\"Microsoft Corp. today announced the following results for the quarter ended December 31, 2021, as compared to the corresponding period of last fiscal year:\n",
    "\n",
    "·         Revenue was $51.7 billion and increased 20%\n",
    "·         Operating income was $22.2 billion and increased 24%\n",
    "·         Net income was $18.8 billion and increased 21%\n",
    "·         Diluted earnings per share was $2.48 and increased 22%\n",
    "“Digital technology is the most malleable resource at the world’s disposal to overcome constraints and reimagine everyday work and life,” said Satya Nadella, chairman and chief executive officer of Microsoft. “As tech as a percentage of global GDP continues to increase, we are innovating and investing across diverse and growing markets, with a common underlying technology stack and an operating model that reinforces a common strategy, culture, and sense of purpose.”\n",
    "“Solid commercial execution, represented by strong bookings growth driven by long-term Azure commitments, increased Microsoft Cloud revenue to $22.1 billion, up 32% year over year” said Amy Hood, executive vice president and chief financial officer of Microsoft.\"\"\"\n",
    "\n",
    "doc= nlp(earnings_text)\n",
    "\n",
    "filtered_tokens= []\n",
    "for token in doc:\n",
    "    if token.pos_ not in [\"SPACE\", \"X\", \"PUNCT\"]:\n",
    "        #print(token, \"|\", token.pos_, \"|\", spacy.explain(token.pos_))\n",
    "        filtered_tokens.append(token)"
   ]
  },
  {
   "cell_type": "code",
   "execution_count": 30,
   "id": "1e947797",
   "metadata": {
    "scrolled": false
   },
   "outputs": [
    {
     "data": {
      "text/plain": [
       "[Microsoft,\n",
       " Corp.,\n",
       " today,\n",
       " announced,\n",
       " the,\n",
       " following,\n",
       " results,\n",
       " for,\n",
       " the,\n",
       " quarter,\n",
       " ended,\n",
       " December,\n",
       " 31,\n",
       " 2021,\n",
       " as,\n",
       " compared,\n",
       " to,\n",
       " the,\n",
       " corresponding,\n",
       " period,\n",
       " of,\n",
       " last,\n",
       " fiscal,\n",
       " year,\n",
       " Revenue,\n",
       " was,\n",
       " $,\n",
       " 51.7,\n",
       " billion,\n",
       " and,\n",
       " increased,\n",
       " 20,\n",
       " %,\n",
       " Operating,\n",
       " income,\n",
       " was,\n",
       " $,\n",
       " 22.2,\n",
       " billion,\n",
       " and,\n",
       " increased,\n",
       " 24,\n",
       " %,\n",
       " Net,\n",
       " income,\n",
       " was,\n",
       " $,\n",
       " 18.8,\n",
       " billion,\n",
       " and,\n",
       " increased,\n",
       " 21,\n",
       " %,\n",
       " Diluted,\n",
       " earnings,\n",
       " per,\n",
       " share,\n",
       " was,\n",
       " $,\n",
       " 2.48,\n",
       " and,\n",
       " increased,\n",
       " 22,\n",
       " %,\n",
       " Digital,\n",
       " technology,\n",
       " is,\n",
       " the,\n",
       " most,\n",
       " malleable,\n",
       " resource,\n",
       " at,\n",
       " the,\n",
       " world,\n",
       " ’s,\n",
       " disposal,\n",
       " to,\n",
       " overcome,\n",
       " constraints,\n",
       " and,\n",
       " reimagine,\n",
       " everyday,\n",
       " work,\n",
       " and,\n",
       " life,\n",
       " said,\n",
       " Satya,\n",
       " Nadella,\n",
       " chairman,\n",
       " and,\n",
       " chief,\n",
       " executive,\n",
       " officer,\n",
       " of,\n",
       " Microsoft,\n",
       " As,\n",
       " tech,\n",
       " as,\n",
       " a,\n",
       " percentage,\n",
       " of,\n",
       " global,\n",
       " GDP,\n",
       " continues,\n",
       " to,\n",
       " increase,\n",
       " we,\n",
       " are,\n",
       " innovating,\n",
       " and,\n",
       " investing,\n",
       " across,\n",
       " diverse,\n",
       " and,\n",
       " growing,\n",
       " markets,\n",
       " with,\n",
       " a,\n",
       " common,\n",
       " underlying,\n",
       " technology,\n",
       " stack,\n",
       " and,\n",
       " an,\n",
       " operating,\n",
       " model,\n",
       " that,\n",
       " reinforces,\n",
       " a,\n",
       " common,\n",
       " strategy,\n",
       " culture,\n",
       " and,\n",
       " sense,\n",
       " of,\n",
       " purpose,\n",
       " Solid,\n",
       " commercial,\n",
       " execution,\n",
       " represented,\n",
       " by,\n",
       " strong,\n",
       " bookings,\n",
       " growth,\n",
       " driven,\n",
       " by,\n",
       " long,\n",
       " term,\n",
       " Azure,\n",
       " commitments,\n",
       " increased,\n",
       " Microsoft,\n",
       " Cloud,\n",
       " revenue,\n",
       " to,\n",
       " $,\n",
       " 22.1,\n",
       " billion,\n",
       " up,\n",
       " 32,\n",
       " %,\n",
       " year,\n",
       " over,\n",
       " year,\n",
       " said,\n",
       " Amy,\n",
       " Hood,\n",
       " executive,\n",
       " vice,\n",
       " president,\n",
       " and,\n",
       " chief,\n",
       " financial,\n",
       " officer,\n",
       " of,\n",
       " Microsoft]"
      ]
     },
     "execution_count": 30,
     "metadata": {},
     "output_type": "execute_result"
    }
   ],
   "source": [
    " filtered_tokens"
   ]
  },
  {
   "cell_type": "code",
   "execution_count": 34,
   "id": "b0fb5d8d",
   "metadata": {},
   "outputs": [
    {
     "data": {
      "text/plain": [
       "74"
      ]
     },
     "execution_count": 34,
     "metadata": {},
     "output_type": "execute_result"
    }
   ],
   "source": [
    "spacy.attrs.POS"
   ]
  },
  {
   "cell_type": "code",
   "execution_count": 32,
   "id": "7eeddaf1",
   "metadata": {},
   "outputs": [
    {
     "data": {
      "text/plain": [
       "{96: 13,\n",
       " 92: 46,\n",
       " 100: 24,\n",
       " 90: 9,\n",
       " 85: 16,\n",
       " 93: 16,\n",
       " 97: 27,\n",
       " 98: 1,\n",
       " 84: 20,\n",
       " 103: 10,\n",
       " 87: 6,\n",
       " 99: 5,\n",
       " 89: 12,\n",
       " 86: 3,\n",
       " 94: 3,\n",
       " 95: 2}"
      ]
     },
     "execution_count": 32,
     "metadata": {},
     "output_type": "execute_result"
    }
   ],
   "source": [
    "doc.count_by(spacy.attrs.POS)"
   ]
  },
  {
   "cell_type": "code",
   "execution_count": 40,
   "id": "c0e8489c",
   "metadata": {},
   "outputs": [
    {
     "name": "stdout",
     "output_type": "stream",
     "text": [
      "PROPN | 13\n",
      "NOUN | 46\n",
      "VERB | 24\n",
      "DET | 9\n",
      "ADP | 16\n",
      "NUM | 16\n",
      "PUNCT | 27\n",
      "SCONJ | 1\n",
      "ADJ | 20\n",
      "SPACE | 10\n",
      "AUX | 6\n",
      "SYM | 5\n",
      "CCONJ | 12\n",
      "ADV | 3\n",
      "PART | 3\n",
      "PRON | 2\n"
     ]
    }
   ],
   "source": [
    "\n",
    "for k,v in doc.count_by(spacy.attrs.POS).items():\n",
    "    print(doc.vocab[k].text, \"|\", v)"
   ]
  },
  {
   "cell_type": "code",
   "execution_count": null,
   "id": "af6e3acc",
   "metadata": {},
   "outputs": [],
   "source": []
  }
 ],
 "metadata": {
  "kernelspec": {
   "display_name": "Python 3 (ipykernel)",
   "language": "python",
   "name": "python3"
  },
  "language_info": {
   "codemirror_mode": {
    "name": "ipython",
    "version": 3
   },
   "file_extension": ".py",
   "mimetype": "text/x-python",
   "name": "python",
   "nbconvert_exporter": "python",
   "pygments_lexer": "ipython3",
   "version": "3.9.16"
  }
 },
 "nbformat": 4,
 "nbformat_minor": 5
}
