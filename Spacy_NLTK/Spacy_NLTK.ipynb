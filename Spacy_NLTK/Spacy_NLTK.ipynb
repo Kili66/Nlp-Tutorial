{
 "cells": [
  {
   "cell_type": "code",
   "execution_count": 1,
   "id": "aafcbb31",
   "metadata": {},
   "outputs": [],
   "source": [
    "import spacy"
   ]
  },
  {
   "cell_type": "markdown",
   "id": "23215377",
   "metadata": {},
   "source": [
    "### Sentence Tokenization"
   ]
  },
  {
   "cell_type": "code",
   "execution_count": 2,
   "id": "7f3b9fdb",
   "metadata": {},
   "outputs": [
    {
     "name": "stdout",
     "output_type": "stream",
     "text": [
      "Mr. Mariam loves sarma of Turkey.\n",
      "Khadidja loves eating Chadian kichen\n"
     ]
    }
   ],
   "source": [
    "#create spacy object\n",
    "nlp= spacy.load(\"en_core_web_sm\")\n",
    "\n",
    "doc= nlp(\"Mr. Mariam loves sarma of Turkey. Khadidja loves eating Chadian kichen\")\n",
    "\n",
    "for sentence in doc.sents:\n",
    "    print(sentence)"
   ]
  },
  {
   "cell_type": "markdown",
   "id": "e12d1695",
   "metadata": {},
   "source": [
    "### Word Tokenization in Spacy"
   ]
  },
  {
   "cell_type": "code",
   "execution_count": 3,
   "id": "c1ac2f81",
   "metadata": {},
   "outputs": [
    {
     "name": "stdout",
     "output_type": "stream",
     "text": [
      "Mr.\n",
      "Mariam\n",
      "loves\n",
      "sarma\n",
      "of\n",
      "Turkey\n",
      ".\n",
      "Khadidja\n",
      "loves\n",
      "eating\n",
      "Chadian\n",
      "kichen\n"
     ]
    }
   ],
   "source": [
    "for sentence in doc.sents:\n",
    "    for word in sentence:\n",
    "        print(word)"
   ]
  },
  {
   "cell_type": "code",
   "execution_count": 6,
   "id": "a7de550e",
   "metadata": {},
   "outputs": [
    {
     "name": "stderr",
     "output_type": "stream",
     "text": [
      "[nltk_data] Downloading package punkt to C:\\Users\\MY\n",
      "[nltk_data]     PC\\AppData\\Roaming\\nltk_data...\n",
      "[nltk_data]   Unzipping tokenizers\\punkt.zip.\n"
     ]
    },
    {
     "data": {
      "text/plain": [
       "True"
      ]
     },
     "execution_count": 6,
     "metadata": {},
     "output_type": "execute_result"
    }
   ],
   "source": [
    "import nltk\n",
    "nltk.download('punkt')"
   ]
  },
  {
   "cell_type": "code",
   "execution_count": 7,
   "id": "14d4b42b",
   "metadata": {},
   "outputs": [
    {
     "data": {
      "text/plain": [
       "['Mr. Mariam loves sarma of Turkey.', 'Khadidja loves eating Chadian kichen']"
      ]
     },
     "execution_count": 7,
     "metadata": {},
     "output_type": "execute_result"
    }
   ],
   "source": [
    "from nltk.tokenize import sent_tokenize\n",
    "\n",
    "sent_tokenize(\"Mr. Mariam loves sarma of Turkey. Khadidja loves eating Chadian kichen\")"
   ]
  },
  {
   "cell_type": "code",
   "execution_count": 8,
   "id": "37df5c97",
   "metadata": {},
   "outputs": [
    {
     "data": {
      "text/plain": [
       "['Mr.',\n",
       " 'Mariam',\n",
       " 'loves',\n",
       " 'sarma',\n",
       " 'of',\n",
       " 'Turkey',\n",
       " '.',\n",
       " 'Khadidja',\n",
       " 'loves',\n",
       " 'eating',\n",
       " 'Chadian',\n",
       " 'kichen']"
      ]
     },
     "execution_count": 8,
     "metadata": {},
     "output_type": "execute_result"
    }
   ],
   "source": [
    "from nltk.tokenize import word_tokenize\n",
    "\n",
    "word_tokenize(\"Mr. Mariam loves sarma of Turkey. Khadidja loves eating Chadian kichen\")"
   ]
  },
  {
   "cell_type": "code",
   "execution_count": null,
   "id": "4d19281b",
   "metadata": {},
   "outputs": [],
   "source": []
  }
 ],
 "metadata": {
  "kernelspec": {
   "display_name": "Python 3 (ipykernel)",
   "language": "python",
   "name": "python3"
  },
  "language_info": {
   "codemirror_mode": {
    "name": "ipython",
    "version": 3
   },
   "file_extension": ".py",
   "mimetype": "text/x-python",
   "name": "python",
   "nbconvert_exporter": "python",
   "pygments_lexer": "ipython3",
   "version": "3.9.16"
  }
 },
 "nbformat": 4,
 "nbformat_minor": 5
}
