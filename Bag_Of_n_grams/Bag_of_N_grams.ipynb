{
 "cells": [
  {
   "cell_type": "code",
   "execution_count": 1,
   "id": "ea2083b4",
   "metadata": {
    "scrolled": true
   },
   "outputs": [
    {
     "data": {
      "text/plain": [
       "{'mami': 12,\n",
       " 'papi': 15,\n",
       " 'becho': 0,\n",
       " 'is': 5,\n",
       " 'looking': 9,\n",
       " 'for': 3,\n",
       " 'job': 8,\n",
       " 'mami papi': 13,\n",
       " 'papi becho': 16,\n",
       " 'becho is': 1,\n",
       " 'is looking': 6,\n",
       " 'looking for': 10,\n",
       " 'for job': 4,\n",
       " 'mami papi becho': 14,\n",
       " 'papi becho is': 17,\n",
       " 'becho is looking': 2,\n",
       " 'is looking for': 7,\n",
       " 'looking for job': 11}"
      ]
     },
     "execution_count": 1,
     "metadata": {},
     "output_type": "execute_result"
    }
   ],
   "source": [
    "from sklearn.feature_extraction.text import CountVectorizer\n",
    "\n",
    "v= CountVectorizer(ngram_range=(1,3))\n",
    "#generate 1 gram, Bigram and tri-gram\n",
    "v.fit([\"Mami Papi Becho is looking for a Job\"])\n",
    "v.vocabulary_"
   ]
  },
  {
   "cell_type": "code",
   "execution_count": 3,
   "id": "cc62549b",
   "metadata": {},
   "outputs": [],
   "source": [
    "corpus = [\n",
    "    \"Thor ate pizza\",\n",
    "    \"Loki is tall\",\n",
    "    \"Loki is eating pizza\"\n",
    "]"
   ]
  },
  {
   "cell_type": "code",
   "execution_count": 4,
   "id": "2958ce07",
   "metadata": {},
   "outputs": [],
   "source": [
    "import spacy\n",
    "\n",
    "nlp= spacy.load(\"en_core_web_sm\")\n",
    "\n",
    "def preprocess(text):\n",
    "    doc= nlp(text)\n",
    "    filtered_tokens= []\n",
    "    for token in doc:\n",
    "        if token.is_stop or token.is_punct:\n",
    "            continue\n",
    "        filtered_tokens.append(token.lemma_)\n",
    "    return \" \".join(filtered_tokens)"
   ]
  },
  {
   "cell_type": "code",
   "execution_count": 5,
   "id": "4ead08a2",
   "metadata": {},
   "outputs": [
    {
     "data": {
      "text/plain": [
       "'Mariam eat Mango go market'"
      ]
     },
     "execution_count": 5,
     "metadata": {},
     "output_type": "execute_result"
    }
   ],
   "source": [
    "preprocess(\"Mariam ate Mango and went to the market\")"
   ]
  },
  {
   "cell_type": "code",
   "execution_count": 6,
   "id": "ade7d048",
   "metadata": {},
   "outputs": [
    {
     "data": {
      "text/plain": [
       "['thor eat pizza', 'Loki tall', 'Loki eat pizza']"
      ]
     },
     "execution_count": 6,
     "metadata": {},
     "output_type": "execute_result"
    }
   ],
   "source": [
    "corpus_processed= [preprocess(text) for text in corpus]\n",
    "corpus_processed"
   ]
  },
  {
   "cell_type": "code",
   "execution_count": 7,
   "id": "5a7296de",
   "metadata": {},
   "outputs": [
    {
     "data": {
      "text/plain": [
       "{'thor': 7,\n",
       " 'eat': 0,\n",
       " 'pizza': 5,\n",
       " 'thor eat': 8,\n",
       " 'eat pizza': 1,\n",
       " 'loki': 2,\n",
       " 'tall': 6,\n",
       " 'loki tall': 4,\n",
       " 'loki eat': 3}"
      ]
     },
     "execution_count": 7,
     "metadata": {},
     "output_type": "execute_result"
    }
   ],
   "source": [
    "v= CountVectorizer(ngram_range=(1,2))\n",
    "v.fit(corpus_processed)\n",
    "v.vocabulary_"
   ]
  },
  {
   "cell_type": "code",
   "execution_count": 8,
   "id": "ba313580",
   "metadata": {},
   "outputs": [
    {
     "data": {
      "text/plain": [
       "array([[1, 1, 0, 0, 0, 1, 0, 1, 1]], dtype=int64)"
      ]
     },
     "execution_count": 8,
     "metadata": {},
     "output_type": "execute_result"
    }
   ],
   "source": [
    "#using Bag of n grams models transform text into vector\n",
    "v.transform([\"Thor eat Pizza\"]).toarray()"
   ]
  },
  {
   "cell_type": "code",
   "execution_count": 9,
   "id": "037f8d1c",
   "metadata": {},
   "outputs": [
    {
     "data": {
      "text/plain": [
       "array([[1, 1, 0, 0, 0, 1, 0, 0, 0]], dtype=int64)"
      ]
     },
     "execution_count": 9,
     "metadata": {},
     "output_type": "execute_result"
    }
   ],
   "source": [
    "v.transform([\"Mariam eat Pizza\"]).toarray()"
   ]
  },
  {
   "cell_type": "code",
   "execution_count": 10,
   "id": "20d7aed1",
   "metadata": {},
   "outputs": [
    {
     "data": {
      "text/html": [
       "<div>\n",
       "<style scoped>\n",
       "    .dataframe tbody tr th:only-of-type {\n",
       "        vertical-align: middle;\n",
       "    }\n",
       "\n",
       "    .dataframe tbody tr th {\n",
       "        vertical-align: top;\n",
       "    }\n",
       "\n",
       "    .dataframe thead th {\n",
       "        text-align: right;\n",
       "    }\n",
       "</style>\n",
       "<table border=\"1\" class=\"dataframe\">\n",
       "  <thead>\n",
       "    <tr style=\"text-align: right;\">\n",
       "      <th></th>\n",
       "      <th>link</th>\n",
       "      <th>headline</th>\n",
       "      <th>category</th>\n",
       "      <th>short_description</th>\n",
       "      <th>authors</th>\n",
       "      <th>date</th>\n",
       "    </tr>\n",
       "  </thead>\n",
       "  <tbody>\n",
       "    <tr>\n",
       "      <th>0</th>\n",
       "      <td>https://www.huffpost.com/entry/covid-boosters-...</td>\n",
       "      <td>Over 4 Million Americans Roll Up Sleeves For O...</td>\n",
       "      <td>U.S. NEWS</td>\n",
       "      <td>Health experts said it is too early to predict...</td>\n",
       "      <td>Carla K. Johnson, AP</td>\n",
       "      <td>2022-09-23</td>\n",
       "    </tr>\n",
       "    <tr>\n",
       "      <th>1</th>\n",
       "      <td>https://www.huffpost.com/entry/american-airlin...</td>\n",
       "      <td>American Airlines Flyer Charged, Banned For Li...</td>\n",
       "      <td>U.S. NEWS</td>\n",
       "      <td>He was subdued by passengers and crew when he ...</td>\n",
       "      <td>Mary Papenfuss</td>\n",
       "      <td>2022-09-23</td>\n",
       "    </tr>\n",
       "    <tr>\n",
       "      <th>2</th>\n",
       "      <td>https://www.huffpost.com/entry/funniest-tweets...</td>\n",
       "      <td>23 Of The Funniest Tweets About Cats And Dogs ...</td>\n",
       "      <td>COMEDY</td>\n",
       "      <td>\"Until you have a dog you don't understand wha...</td>\n",
       "      <td>Elyse Wanshel</td>\n",
       "      <td>2022-09-23</td>\n",
       "    </tr>\n",
       "    <tr>\n",
       "      <th>3</th>\n",
       "      <td>https://www.huffpost.com/entry/funniest-parent...</td>\n",
       "      <td>The Funniest Tweets From Parents This Week (Se...</td>\n",
       "      <td>PARENTING</td>\n",
       "      <td>\"Accidentally put grown-up toothpaste on my to...</td>\n",
       "      <td>Caroline Bologna</td>\n",
       "      <td>2022-09-23</td>\n",
       "    </tr>\n",
       "    <tr>\n",
       "      <th>4</th>\n",
       "      <td>https://www.huffpost.com/entry/amy-cooper-lose...</td>\n",
       "      <td>Woman Who Called Cops On Black Bird-Watcher Lo...</td>\n",
       "      <td>U.S. NEWS</td>\n",
       "      <td>Amy Cooper accused investment firm Franklin Te...</td>\n",
       "      <td>Nina Golgowski</td>\n",
       "      <td>2022-09-22</td>\n",
       "    </tr>\n",
       "  </tbody>\n",
       "</table>\n",
       "</div>"
      ],
      "text/plain": [
       "                                                link  \\\n",
       "0  https://www.huffpost.com/entry/covid-boosters-...   \n",
       "1  https://www.huffpost.com/entry/american-airlin...   \n",
       "2  https://www.huffpost.com/entry/funniest-tweets...   \n",
       "3  https://www.huffpost.com/entry/funniest-parent...   \n",
       "4  https://www.huffpost.com/entry/amy-cooper-lose...   \n",
       "\n",
       "                                            headline   category  \\\n",
       "0  Over 4 Million Americans Roll Up Sleeves For O...  U.S. NEWS   \n",
       "1  American Airlines Flyer Charged, Banned For Li...  U.S. NEWS   \n",
       "2  23 Of The Funniest Tweets About Cats And Dogs ...     COMEDY   \n",
       "3  The Funniest Tweets From Parents This Week (Se...  PARENTING   \n",
       "4  Woman Who Called Cops On Black Bird-Watcher Lo...  U.S. NEWS   \n",
       "\n",
       "                                   short_description               authors  \\\n",
       "0  Health experts said it is too early to predict...  Carla K. Johnson, AP   \n",
       "1  He was subdued by passengers and crew when he ...        Mary Papenfuss   \n",
       "2  \"Until you have a dog you don't understand wha...         Elyse Wanshel   \n",
       "3  \"Accidentally put grown-up toothpaste on my to...      Caroline Bologna   \n",
       "4  Amy Cooper accused investment firm Franklin Te...        Nina Golgowski   \n",
       "\n",
       "        date  \n",
       "0 2022-09-23  \n",
       "1 2022-09-23  \n",
       "2 2022-09-23  \n",
       "3 2022-09-23  \n",
       "4 2022-09-22  "
      ]
     },
     "execution_count": 10,
     "metadata": {},
     "output_type": "execute_result"
    }
   ],
   "source": [
    "import pandas as pd\n",
    "\n",
    "df= pd.read_json(\"News_Category.json\", lines=True)\n",
    "df.head()"
   ]
  },
  {
   "cell_type": "code",
   "execution_count": 11,
   "id": "d6d5a597",
   "metadata": {},
   "outputs": [
    {
     "data": {
      "text/plain": [
       "POLITICS          35602\n",
       "WELLNESS          17945\n",
       "ENTERTAINMENT     17362\n",
       "TRAVEL             9900\n",
       "STYLE & BEAUTY     9814\n",
       "PARENTING          8791\n",
       "HEALTHY LIVING     6694\n",
       "QUEER VOICES       6347\n",
       "FOOD & DRINK       6340\n",
       "BUSINESS           5992\n",
       "COMEDY             5400\n",
       "SPORTS             5077\n",
       "BLACK VOICES       4583\n",
       "HOME & LIVING      4320\n",
       "PARENTS            3955\n",
       "THE WORLDPOST      3664\n",
       "WEDDINGS           3653\n",
       "WOMEN              3572\n",
       "CRIME              3562\n",
       "IMPACT             3484\n",
       "DIVORCE            3426\n",
       "WORLD NEWS         3299\n",
       "MEDIA              2944\n",
       "WEIRD NEWS         2777\n",
       "GREEN              2622\n",
       "WORLDPOST          2579\n",
       "RELIGION           2577\n",
       "STYLE              2254\n",
       "SCIENCE            2206\n",
       "TECH               2104\n",
       "TASTE              2096\n",
       "MONEY              1756\n",
       "ARTS               1509\n",
       "ENVIRONMENT        1444\n",
       "FIFTY              1401\n",
       "GOOD NEWS          1398\n",
       "U.S. NEWS          1377\n",
       "ARTS & CULTURE     1339\n",
       "COLLEGE            1144\n",
       "LATINO VOICES      1130\n",
       "CULTURE & ARTS     1074\n",
       "EDUCATION          1014\n",
       "Name: category, dtype: int64"
      ]
     },
     "execution_count": 11,
     "metadata": {},
     "output_type": "execute_result"
    }
   ],
   "source": [
    "df.category.value_counts()"
   ]
  },
  {
   "cell_type": "code",
   "execution_count": 12,
   "id": "c0a75fc6",
   "metadata": {
    "scrolled": true
   },
   "outputs": [
    {
     "data": {
      "text/plain": [
       "array(['U.S. NEWS', 'COMEDY', 'PARENTING', 'WORLD NEWS', 'CULTURE & ARTS',\n",
       "       'TECH', 'SPORTS', 'ENTERTAINMENT', 'POLITICS', 'WEIRD NEWS',\n",
       "       'ENVIRONMENT', 'EDUCATION', 'CRIME', 'SCIENCE', 'WELLNESS',\n",
       "       'BUSINESS', 'STYLE & BEAUTY', 'FOOD & DRINK', 'MEDIA',\n",
       "       'QUEER VOICES', 'HOME & LIVING', 'WOMEN', 'BLACK VOICES', 'TRAVEL',\n",
       "       'MONEY', 'RELIGION', 'LATINO VOICES', 'IMPACT', 'WEDDINGS',\n",
       "       'COLLEGE', 'PARENTS', 'ARTS & CULTURE', 'STYLE', 'GREEN', 'TASTE',\n",
       "       'HEALTHY LIVING', 'THE WORLDPOST', 'GOOD NEWS', 'WORLDPOST',\n",
       "       'FIFTY', 'ARTS', 'DIVORCE'], dtype=object)"
      ]
     },
     "execution_count": 12,
     "metadata": {},
     "output_type": "execute_result"
    }
   ],
   "source": [
    "df.category.unique()"
   ]
  },
  {
   "cell_type": "code",
   "execution_count": 20,
   "id": "52b9af95",
   "metadata": {},
   "outputs": [],
   "source": [
    "\n",
    "import numpy as np\n",
    "from sklearn.utils import resample\n",
    "\n",
    "def undersample_category(df, target_size):\n",
    "    # Create a dictionary to store the original counts for each category\n",
    "    orig_counts = dict(df['category'].value_counts())\n",
    "    \n",
    "    # Determine the minimum count among all categories\n",
    "    min_count = min(orig_counts.values())\n",
    "    \n",
    "    # Calculate the number of samples to draw from each category\n",
    "    samples_per_category = {cat: min(target_size, count) for cat, count in orig_counts.items()}\n",
    "    \n",
    "    # Create an empty DataFrame to hold the undersampled data\n",
    "    undersampled_df = pd.DataFrame(columns=df.columns)\n",
    "    \n",
    "    # For each category, draw a random sample of size \"samples_per_category\" and add it to the undersampled DataFrame\n",
    "    for cat, count in samples_per_category.items():\n",
    "        cat_df = df[df['category'] == cat]\n",
    "        cat_sample = resample(cat_df, n_samples=count, replace=False, random_state=42)\n",
    "        undersampled_df = pd.concat([undersampled_df, cat_sample], axis=0)\n",
    "    \n",
    "    # Shuffle the undersampled DataFrame and return it\n",
    "    return undersampled_df.sample(frac=1, random_state=42)\n"
   ]
  },
  {
   "cell_type": "code",
   "execution_count": 27,
   "id": "5f52fae9",
   "metadata": {},
   "outputs": [],
   "source": [
    "undersampled_df = undersample_category(df, target_size=1000)\n"
   ]
  },
  {
   "cell_type": "code",
   "execution_count": 28,
   "id": "7391bd29",
   "metadata": {},
   "outputs": [],
   "source": [
    "import pandas as pd\n",
    "import numpy as np\n",
    "from sklearn.utils import resample\n",
    "\n",
    "def undersample_category(df, target_size):\n",
    "    # Create a dictionary to store the original counts for each category\n",
    "    orig_counts = dict(df['category'].value_counts())\n",
    "    \n",
    "    # Determine the minimum count among all categories\n",
    "    min_count = min(orig_counts.values())\n",
    "    \n",
    "    # Calculate the number of samples to draw from each category\n",
    "    samples_per_category = {cat: min(target_size, count) for cat, count in orig_counts.items()}\n",
    "    \n",
    "    # Create a mapping from category names to numeric labels starting from 0\n",
    "    label_map = {cat: i for i, cat in enumerate(sorted(df['category'].unique()))}\n",
    "    \n",
    "    # Add a new column to the DataFrame with the numeric label for each category\n",
    "    df['category_label'] = df['category'].map(label_map)\n",
    "    \n",
    "    # Create an empty DataFrame to hold the undersampled data\n",
    "    undersampled_df = pd.DataFrame(columns=df.columns)\n",
    "    \n",
    "    # For each category, draw a random sample of size \"samples_per_category\" and add it to the undersampled DataFrame\n",
    "    for cat, count in samples_per_category.items():\n",
    "        cat_df = df[df['category'] == cat]\n",
    "        cat_sample = resample(cat_df, n_samples=count, replace=False, random_state=42)\n",
    "        undersampled_df = pd.concat([undersampled_df, cat_sample], axis=0)\n",
    "    \n",
    "    # Shuffle the undersampled DataFrame and return it, dropping the original category column\n",
    "    return undersampled_df.drop('category', axis=1).sample(frac=1, random_state=42)\n"
   ]
  },
  {
   "cell_type": "code",
   "execution_count": 30,
   "id": "7a1697bb",
   "metadata": {},
   "outputs": [
    {
     "data": {
      "text/html": [
       "<div>\n",
       "<style scoped>\n",
       "    .dataframe tbody tr th:only-of-type {\n",
       "        vertical-align: middle;\n",
       "    }\n",
       "\n",
       "    .dataframe tbody tr th {\n",
       "        vertical-align: top;\n",
       "    }\n",
       "\n",
       "    .dataframe thead th {\n",
       "        text-align: right;\n",
       "    }\n",
       "</style>\n",
       "<table border=\"1\" class=\"dataframe\">\n",
       "  <thead>\n",
       "    <tr style=\"text-align: right;\">\n",
       "      <th></th>\n",
       "      <th>link</th>\n",
       "      <th>headline</th>\n",
       "      <th>short_description</th>\n",
       "      <th>authors</th>\n",
       "      <th>date</th>\n",
       "      <th>category_label</th>\n",
       "    </tr>\n",
       "  </thead>\n",
       "  <tbody>\n",
       "    <tr>\n",
       "      <th>181369</th>\n",
       "      <td>https://www.huffingtonpost.comhttp://www.cnn.c...</td>\n",
       "      <td>The Secret Life Of My Sixth Grader</td>\n",
       "      <td>My sixth grader has a secret life online. It w...</td>\n",
       "      <td></td>\n",
       "      <td>2012-11-27</td>\n",
       "      <td>22</td>\n",
       "    </tr>\n",
       "    <tr>\n",
       "      <th>105872</th>\n",
       "      <td>https://www.huffingtonpost.com/entry/how-hasht...</td>\n",
       "      <td>How Hashtags Evolved And Changed The Way We Co...</td>\n",
       "      <td>We've already pretty much streamlined the comm...</td>\n",
       "      <td>Uloop, ContributorOnline Marketplace for Colle...</td>\n",
       "      <td>2015-03-04</td>\n",
       "      <td>4</td>\n",
       "    </tr>\n",
       "    <tr>\n",
       "      <th>117506</th>\n",
       "      <td>https://www.huffingtonpost.com/entry/mexicos-f...</td>\n",
       "      <td>Mexico's Foreign Minister Pushes for UNSC Refo...</td>\n",
       "      <td>Addressing a public program in New Delhi today...</td>\n",
       "      <td>Samarth Pathak, ContributorPublic advocacy spe...</td>\n",
       "      <td>2014-10-21</td>\n",
       "      <td>41</td>\n",
       "    </tr>\n",
       "    <tr>\n",
       "      <th>193726</th>\n",
       "      <td>https://www.huffingtonpost.com/entry/troy-dono...</td>\n",
       "      <td>Troy Donovan, Family Reclaim Colorado Home Fro...</td>\n",
       "      <td>Having a place to live has become more difficu...</td>\n",
       "      <td>Bonnie Kavoussi</td>\n",
       "      <td>2012-07-16</td>\n",
       "      <td>21</td>\n",
       "    </tr>\n",
       "    <tr>\n",
       "      <th>93638</th>\n",
       "      <td>https://www.huffingtonpost.comhttp://latino.fo...</td>\n",
       "      <td>Nobel Prize Winners Demand Better Health Care ...</td>\n",
       "      <td>Six Nobel Prize winners, led by America's Jody...</td>\n",
       "      <td></td>\n",
       "      <td>2015-07-22</td>\n",
       "      <td>19</td>\n",
       "    </tr>\n",
       "    <tr>\n",
       "      <th>...</th>\n",
       "      <td>...</td>\n",
       "      <td>...</td>\n",
       "      <td>...</td>\n",
       "      <td>...</td>\n",
       "      <td>...</td>\n",
       "      <td>...</td>\n",
       "    </tr>\n",
       "    <tr>\n",
       "      <th>119336</th>\n",
       "      <td>https://www.huffingtonpost.com/entry/4-ways-to...</td>\n",
       "      <td>4 Ways to Support Farm-to-School Policies</td>\n",
       "      <td></td>\n",
       "      <td>Maria Rodale, ContributorCEO and Chairman of R...</td>\n",
       "      <td>2014-09-30</td>\n",
       "      <td>16</td>\n",
       "    </tr>\n",
       "    <tr>\n",
       "      <th>130090</th>\n",
       "      <td>https://www.huffingtonpost.com/entry/florida-h...</td>\n",
       "      <td>WATCH: College Baseball Team Pulls Off Hidden ...</td>\n",
       "      <td></td>\n",
       "      <td>Michael Klopman</td>\n",
       "      <td>2014-05-31</td>\n",
       "      <td>28</td>\n",
       "    </tr>\n",
       "    <tr>\n",
       "      <th>66521</th>\n",
       "      <td>https://www.huffingtonpost.com/entry/lake-shas...</td>\n",
       "      <td>University Of Oregon Fraternity Suspended Afte...</td>\n",
       "      <td>\"My personal guess is they have no respect for...</td>\n",
       "      <td>Ed Mazza</td>\n",
       "      <td>2016-05-25</td>\n",
       "      <td>4</td>\n",
       "    </tr>\n",
       "    <tr>\n",
       "      <th>35231</th>\n",
       "      <td>https://www.huffingtonpost.com/entry/trump-ass...</td>\n",
       "      <td>Trump Assures Farmers Immigration Crackdown Wo...</td>\n",
       "      <td>“He assured us we would have plenty of access ...</td>\n",
       "      <td>Mica Rosenberg and Kristina Cooke, Reuters</td>\n",
       "      <td>2017-05-15</td>\n",
       "      <td>24</td>\n",
       "    </tr>\n",
       "    <tr>\n",
       "      <th>54403</th>\n",
       "      <td>https://www.huffingtonpost.com/entry/syria-ref...</td>\n",
       "      <td>Far Away From Home, Syrian Psychiatrists Are H...</td>\n",
       "      <td>The war has increased mental health problems w...</td>\n",
       "      <td>Charlotte Alfred, Refugees Deeply</td>\n",
       "      <td>2016-10-10</td>\n",
       "      <td>33</td>\n",
       "    </tr>\n",
       "  </tbody>\n",
       "</table>\n",
       "<p>42000 rows × 6 columns</p>\n",
       "</div>"
      ],
      "text/plain": [
       "                                                     link  \\\n",
       "181369  https://www.huffingtonpost.comhttp://www.cnn.c...   \n",
       "105872  https://www.huffingtonpost.com/entry/how-hasht...   \n",
       "117506  https://www.huffingtonpost.com/entry/mexicos-f...   \n",
       "193726  https://www.huffingtonpost.com/entry/troy-dono...   \n",
       "93638   https://www.huffingtonpost.comhttp://latino.fo...   \n",
       "...                                                   ...   \n",
       "119336  https://www.huffingtonpost.com/entry/4-ways-to...   \n",
       "130090  https://www.huffingtonpost.com/entry/florida-h...   \n",
       "66521   https://www.huffingtonpost.com/entry/lake-shas...   \n",
       "35231   https://www.huffingtonpost.com/entry/trump-ass...   \n",
       "54403   https://www.huffingtonpost.com/entry/syria-ref...   \n",
       "\n",
       "                                                 headline  \\\n",
       "181369                 The Secret Life Of My Sixth Grader   \n",
       "105872  How Hashtags Evolved And Changed The Way We Co...   \n",
       "117506  Mexico's Foreign Minister Pushes for UNSC Refo...   \n",
       "193726  Troy Donovan, Family Reclaim Colorado Home Fro...   \n",
       "93638   Nobel Prize Winners Demand Better Health Care ...   \n",
       "...                                                   ...   \n",
       "119336          4 Ways to Support Farm-to-School Policies   \n",
       "130090  WATCH: College Baseball Team Pulls Off Hidden ...   \n",
       "66521   University Of Oregon Fraternity Suspended Afte...   \n",
       "35231   Trump Assures Farmers Immigration Crackdown Wo...   \n",
       "54403   Far Away From Home, Syrian Psychiatrists Are H...   \n",
       "\n",
       "                                        short_description  \\\n",
       "181369  My sixth grader has a secret life online. It w...   \n",
       "105872  We've already pretty much streamlined the comm...   \n",
       "117506  Addressing a public program in New Delhi today...   \n",
       "193726  Having a place to live has become more difficu...   \n",
       "93638   Six Nobel Prize winners, led by America's Jody...   \n",
       "...                                                   ...   \n",
       "119336                                                      \n",
       "130090                                                      \n",
       "66521   \"My personal guess is they have no respect for...   \n",
       "35231   “He assured us we would have plenty of access ...   \n",
       "54403   The war has increased mental health problems w...   \n",
       "\n",
       "                                                  authors       date  \\\n",
       "181369                                                    2012-11-27   \n",
       "105872  Uloop, ContributorOnline Marketplace for Colle... 2015-03-04   \n",
       "117506  Samarth Pathak, ContributorPublic advocacy spe... 2014-10-21   \n",
       "193726                                    Bonnie Kavoussi 2012-07-16   \n",
       "93638                                                     2015-07-22   \n",
       "...                                                   ...        ...   \n",
       "119336  Maria Rodale, ContributorCEO and Chairman of R... 2014-09-30   \n",
       "130090                                    Michael Klopman 2014-05-31   \n",
       "66521                                            Ed Mazza 2016-05-25   \n",
       "35231          Mica Rosenberg and Kristina Cooke, Reuters 2017-05-15   \n",
       "54403                   Charlotte Alfred, Refugees Deeply 2016-10-10   \n",
       "\n",
       "       category_label  \n",
       "181369             22  \n",
       "105872              4  \n",
       "117506             41  \n",
       "193726             21  \n",
       "93638              19  \n",
       "...               ...  \n",
       "119336             16  \n",
       "130090             28  \n",
       "66521               4  \n",
       "35231              24  \n",
       "54403              33  \n",
       "\n",
       "[42000 rows x 6 columns]"
      ]
     },
     "execution_count": 30,
     "metadata": {},
     "output_type": "execute_result"
    }
   ],
   "source": [
    "undersampled_df = undersample_category(df, target_size=1000)\n",
    "undersampled_df"
   ]
  },
  {
   "cell_type": "code",
   "execution_count": 32,
   "id": "0b69b9d8",
   "metadata": {},
   "outputs": [],
   "source": [
    "from sklearn.model_selection import train_test_split\n",
    "\n",
    "X_train, X_test, y_train, y_test = train_test_split(\n",
    "    undersampled_df.headline, \n",
    "    undersampled_df.category_label, \n",
    "    test_size=0.2, # 20% samples will go to test dataset\n",
    "    random_state=2022,\n",
    "    stratify=undersampled_df.category_label\n",
    ")\n"
   ]
  },
  {
   "cell_type": "code",
   "execution_count": 33,
   "id": "ca68bf19",
   "metadata": {},
   "outputs": [
    {
     "name": "stdout",
     "output_type": "stream",
     "text": [
      "(33600,)\n"
     ]
    },
    {
     "data": {
      "text/plain": [
       "129442    The Global Search for Education: Which Digital...\n",
       "205618    Sea Shepherd Declares Victory: Activists' 'Sab...\n",
       "138611             Creating Connections With Nature Via Art\n",
       "48947     Why Car Rental Customers Are Losing It Over 'L...\n",
       "122605                         Learning To Be A College Mom\n",
       "Name: headline, dtype: object"
      ]
     },
     "execution_count": 33,
     "metadata": {},
     "output_type": "execute_result"
    }
   ],
   "source": [
    "print(X_train.shape)\n",
    "X_train.head()"
   ]
  },
  {
   "cell_type": "code",
   "execution_count": 34,
   "id": "12881e57",
   "metadata": {},
   "outputs": [
    {
     "data": {
      "text/plain": [
       "9     800\n",
       "18    800\n",
       "0     800\n",
       "40    800\n",
       "29    800\n",
       "22    800\n",
       "20    800\n",
       "6     800\n",
       "41    800\n",
       "23    800\n",
       "33    800\n",
       "11    800\n",
       "10    800\n",
       "36    800\n",
       "17    800\n",
       "13    800\n",
       "1     800\n",
       "35    800\n",
       "26    800\n",
       "34    800\n",
       "24    800\n",
       "38    800\n",
       "14    800\n",
       "27    800\n",
       "7     800\n",
       "3     800\n",
       "12    800\n",
       "8     800\n",
       "37    800\n",
       "31    800\n",
       "4     800\n",
       "25    800\n",
       "21    800\n",
       "2     800\n",
       "15    800\n",
       "32    800\n",
       "19    800\n",
       "28    800\n",
       "39    800\n",
       "5     800\n",
       "30    800\n",
       "16    800\n",
       "Name: category_label, dtype: int64"
      ]
     },
     "execution_count": 34,
     "metadata": {},
     "output_type": "execute_result"
    }
   ],
   "source": [
    "y_train.value_counts()"
   ]
  },
  {
   "cell_type": "code",
   "execution_count": 35,
   "id": "8770bb35",
   "metadata": {},
   "outputs": [
    {
     "data": {
      "text/plain": [
       "41    200\n",
       "30    200\n",
       "22    200\n",
       "21    200\n",
       "1     200\n",
       "14    200\n",
       "13    200\n",
       "26    200\n",
       "5     200\n",
       "0     200\n",
       "7     200\n",
       "2     200\n",
       "11    200\n",
       "10    200\n",
       "16    200\n",
       "34    200\n",
       "37    200\n",
       "20    200\n",
       "31    200\n",
       "9     200\n",
       "18    200\n",
       "4     200\n",
       "15    200\n",
       "29    200\n",
       "27    200\n",
       "24    200\n",
       "36    200\n",
       "12    200\n",
       "38    200\n",
       "3     200\n",
       "6     200\n",
       "32    200\n",
       "8     200\n",
       "17    200\n",
       "25    200\n",
       "23    200\n",
       "28    200\n",
       "39    200\n",
       "33    200\n",
       "35    200\n",
       "19    200\n",
       "40    200\n",
       "Name: category_label, dtype: int64"
      ]
     },
     "execution_count": 35,
     "metadata": {},
     "output_type": "execute_result"
    }
   ],
   "source": [
    "y_test.value_counts()"
   ]
  },
  {
   "cell_type": "code",
   "execution_count": 36,
   "id": "499c9fa1",
   "metadata": {},
   "outputs": [
    {
     "ename": "ValueError",
     "evalue": "Unknown label type: (array([9, 11, 7, ..., 23, 26, 29], dtype=object),)",
     "output_type": "error",
     "traceback": [
      "\u001b[1;31m---------------------------------------------------------------------------\u001b[0m",
      "\u001b[1;31mValueError\u001b[0m                                Traceback (most recent call last)",
      "Cell \u001b[1;32mIn[36], line 12\u001b[0m\n\u001b[0;32m      6\u001b[0m clf \u001b[38;5;241m=\u001b[39m Pipeline([\n\u001b[0;32m      7\u001b[0m      (\u001b[38;5;124m'\u001b[39m\u001b[38;5;124mvectorizer_bow\u001b[39m\u001b[38;5;124m'\u001b[39m, CountVectorizer(ngram_range \u001b[38;5;241m=\u001b[39m (\u001b[38;5;241m1\u001b[39m, \u001b[38;5;241m1\u001b[39m))),        \u001b[38;5;66;03m#using the ngram_range parameter \u001b[39;00m\n\u001b[0;32m      8\u001b[0m      (\u001b[38;5;124m'\u001b[39m\u001b[38;5;124mMulti NB\u001b[39m\u001b[38;5;124m'\u001b[39m, MultinomialNB())         \n\u001b[0;32m      9\u001b[0m ])\n\u001b[0;32m     11\u001b[0m \u001b[38;5;66;03m#2. fit with X_train and y_train\u001b[39;00m\n\u001b[1;32m---> 12\u001b[0m \u001b[43mclf\u001b[49m\u001b[38;5;241;43m.\u001b[39;49m\u001b[43mfit\u001b[49m\u001b[43m(\u001b[49m\u001b[43mX_train\u001b[49m\u001b[43m,\u001b[49m\u001b[43m \u001b[49m\u001b[43my_train\u001b[49m\u001b[43m)\u001b[49m\n\u001b[0;32m     15\u001b[0m \u001b[38;5;66;03m#3. get the predictions for X_test and store it in y_pred\u001b[39;00m\n\u001b[0;32m     16\u001b[0m y_pred \u001b[38;5;241m=\u001b[39m clf\u001b[38;5;241m.\u001b[39mpredict(X_test)\n",
      "File \u001b[1;32m~\\anaconda3\\envs\\tf-gpu\\lib\\site-packages\\sklearn\\pipeline.py:406\u001b[0m, in \u001b[0;36mPipeline.fit\u001b[1;34m(self, X, y, **fit_params)\u001b[0m\n\u001b[0;32m    404\u001b[0m     \u001b[38;5;28;01mif\u001b[39;00m \u001b[38;5;28mself\u001b[39m\u001b[38;5;241m.\u001b[39m_final_estimator \u001b[38;5;241m!=\u001b[39m \u001b[38;5;124m\"\u001b[39m\u001b[38;5;124mpassthrough\u001b[39m\u001b[38;5;124m\"\u001b[39m:\n\u001b[0;32m    405\u001b[0m         fit_params_last_step \u001b[38;5;241m=\u001b[39m fit_params_steps[\u001b[38;5;28mself\u001b[39m\u001b[38;5;241m.\u001b[39msteps[\u001b[38;5;241m-\u001b[39m\u001b[38;5;241m1\u001b[39m][\u001b[38;5;241m0\u001b[39m]]\n\u001b[1;32m--> 406\u001b[0m         \u001b[38;5;28mself\u001b[39m\u001b[38;5;241m.\u001b[39m_final_estimator\u001b[38;5;241m.\u001b[39mfit(Xt, y, \u001b[38;5;241m*\u001b[39m\u001b[38;5;241m*\u001b[39mfit_params_last_step)\n\u001b[0;32m    408\u001b[0m \u001b[38;5;28;01mreturn\u001b[39;00m \u001b[38;5;28mself\u001b[39m\n",
      "File \u001b[1;32m~\\anaconda3\\envs\\tf-gpu\\lib\\site-packages\\sklearn\\naive_bayes.py:751\u001b[0m, in \u001b[0;36m_BaseDiscreteNB.fit\u001b[1;34m(self, X, y, sample_weight)\u001b[0m\n\u001b[0;32m    748\u001b[0m _, n_features \u001b[38;5;241m=\u001b[39m X\u001b[38;5;241m.\u001b[39mshape\n\u001b[0;32m    750\u001b[0m labelbin \u001b[38;5;241m=\u001b[39m LabelBinarizer()\n\u001b[1;32m--> 751\u001b[0m Y \u001b[38;5;241m=\u001b[39m \u001b[43mlabelbin\u001b[49m\u001b[38;5;241;43m.\u001b[39;49m\u001b[43mfit_transform\u001b[49m\u001b[43m(\u001b[49m\u001b[43my\u001b[49m\u001b[43m)\u001b[49m\n\u001b[0;32m    752\u001b[0m \u001b[38;5;28mself\u001b[39m\u001b[38;5;241m.\u001b[39mclasses_ \u001b[38;5;241m=\u001b[39m labelbin\u001b[38;5;241m.\u001b[39mclasses_\n\u001b[0;32m    753\u001b[0m \u001b[38;5;28;01mif\u001b[39;00m Y\u001b[38;5;241m.\u001b[39mshape[\u001b[38;5;241m1\u001b[39m] \u001b[38;5;241m==\u001b[39m \u001b[38;5;241m1\u001b[39m:\n",
      "File \u001b[1;32m~\\anaconda3\\envs\\tf-gpu\\lib\\site-packages\\sklearn\\utils\\_set_output.py:142\u001b[0m, in \u001b[0;36m_wrap_method_output.<locals>.wrapped\u001b[1;34m(self, X, *args, **kwargs)\u001b[0m\n\u001b[0;32m    140\u001b[0m \u001b[38;5;129m@wraps\u001b[39m(f)\n\u001b[0;32m    141\u001b[0m \u001b[38;5;28;01mdef\u001b[39;00m \u001b[38;5;21mwrapped\u001b[39m(\u001b[38;5;28mself\u001b[39m, X, \u001b[38;5;241m*\u001b[39margs, \u001b[38;5;241m*\u001b[39m\u001b[38;5;241m*\u001b[39mkwargs):\n\u001b[1;32m--> 142\u001b[0m     data_to_wrap \u001b[38;5;241m=\u001b[39m f(\u001b[38;5;28mself\u001b[39m, X, \u001b[38;5;241m*\u001b[39margs, \u001b[38;5;241m*\u001b[39m\u001b[38;5;241m*\u001b[39mkwargs)\n\u001b[0;32m    143\u001b[0m     \u001b[38;5;28;01mif\u001b[39;00m \u001b[38;5;28misinstance\u001b[39m(data_to_wrap, \u001b[38;5;28mtuple\u001b[39m):\n\u001b[0;32m    144\u001b[0m         \u001b[38;5;66;03m# only wrap the first output for cross decomposition\u001b[39;00m\n\u001b[0;32m    145\u001b[0m         \u001b[38;5;28;01mreturn\u001b[39;00m (\n\u001b[0;32m    146\u001b[0m             _wrap_data_with_container(method, data_to_wrap[\u001b[38;5;241m0\u001b[39m], X, \u001b[38;5;28mself\u001b[39m),\n\u001b[0;32m    147\u001b[0m             \u001b[38;5;241m*\u001b[39mdata_to_wrap[\u001b[38;5;241m1\u001b[39m:],\n\u001b[0;32m    148\u001b[0m         )\n",
      "File \u001b[1;32m~\\anaconda3\\envs\\tf-gpu\\lib\\site-packages\\sklearn\\preprocessing\\_label.py:334\u001b[0m, in \u001b[0;36mLabelBinarizer.fit_transform\u001b[1;34m(self, y)\u001b[0m\n\u001b[0;32m    314\u001b[0m \u001b[38;5;28;01mdef\u001b[39;00m \u001b[38;5;21mfit_transform\u001b[39m(\u001b[38;5;28mself\u001b[39m, y):\n\u001b[0;32m    315\u001b[0m     \u001b[38;5;124;03m\"\"\"Fit label binarizer/transform multi-class labels to binary labels.\u001b[39;00m\n\u001b[0;32m    316\u001b[0m \n\u001b[0;32m    317\u001b[0m \u001b[38;5;124;03m    The output of transform is sometimes referred to as\u001b[39;00m\n\u001b[1;32m   (...)\u001b[0m\n\u001b[0;32m    332\u001b[0m \u001b[38;5;124;03m        will be of CSR format.\u001b[39;00m\n\u001b[0;32m    333\u001b[0m \u001b[38;5;124;03m    \"\"\"\u001b[39;00m\n\u001b[1;32m--> 334\u001b[0m     \u001b[38;5;28;01mreturn\u001b[39;00m \u001b[38;5;28;43mself\u001b[39;49m\u001b[38;5;241;43m.\u001b[39;49m\u001b[43mfit\u001b[49m\u001b[43m(\u001b[49m\u001b[43my\u001b[49m\u001b[43m)\u001b[49m\u001b[38;5;241m.\u001b[39mtransform(y)\n",
      "File \u001b[1;32m~\\anaconda3\\envs\\tf-gpu\\lib\\site-packages\\sklearn\\preprocessing\\_label.py:311\u001b[0m, in \u001b[0;36mLabelBinarizer.fit\u001b[1;34m(self, y)\u001b[0m\n\u001b[0;32m    308\u001b[0m     \u001b[38;5;28;01mraise\u001b[39;00m \u001b[38;5;167;01mValueError\u001b[39;00m(\u001b[38;5;124m\"\u001b[39m\u001b[38;5;124my has 0 samples: \u001b[39m\u001b[38;5;132;01m%r\u001b[39;00m\u001b[38;5;124m\"\u001b[39m \u001b[38;5;241m%\u001b[39m y)\n\u001b[0;32m    310\u001b[0m \u001b[38;5;28mself\u001b[39m\u001b[38;5;241m.\u001b[39msparse_input_ \u001b[38;5;241m=\u001b[39m sp\u001b[38;5;241m.\u001b[39missparse(y)\n\u001b[1;32m--> 311\u001b[0m \u001b[38;5;28mself\u001b[39m\u001b[38;5;241m.\u001b[39mclasses_ \u001b[38;5;241m=\u001b[39m \u001b[43munique_labels\u001b[49m\u001b[43m(\u001b[49m\u001b[43my\u001b[49m\u001b[43m)\u001b[49m\n\u001b[0;32m    312\u001b[0m \u001b[38;5;28;01mreturn\u001b[39;00m \u001b[38;5;28mself\u001b[39m\n",
      "File \u001b[1;32m~\\anaconda3\\envs\\tf-gpu\\lib\\site-packages\\sklearn\\utils\\multiclass.py:107\u001b[0m, in \u001b[0;36munique_labels\u001b[1;34m(*ys)\u001b[0m\n\u001b[0;32m    105\u001b[0m _unique_labels \u001b[38;5;241m=\u001b[39m _FN_UNIQUE_LABELS\u001b[38;5;241m.\u001b[39mget(label_type, \u001b[38;5;28;01mNone\u001b[39;00m)\n\u001b[0;32m    106\u001b[0m \u001b[38;5;28;01mif\u001b[39;00m \u001b[38;5;129;01mnot\u001b[39;00m _unique_labels:\n\u001b[1;32m--> 107\u001b[0m     \u001b[38;5;28;01mraise\u001b[39;00m \u001b[38;5;167;01mValueError\u001b[39;00m(\u001b[38;5;124m\"\u001b[39m\u001b[38;5;124mUnknown label type: \u001b[39m\u001b[38;5;132;01m%s\u001b[39;00m\u001b[38;5;124m\"\u001b[39m \u001b[38;5;241m%\u001b[39m \u001b[38;5;28mrepr\u001b[39m(ys))\n\u001b[0;32m    109\u001b[0m \u001b[38;5;28;01mif\u001b[39;00m is_array_api:\n\u001b[0;32m    110\u001b[0m     \u001b[38;5;66;03m# array_api does not allow for mixed dtypes\u001b[39;00m\n\u001b[0;32m    111\u001b[0m     unique_ys \u001b[38;5;241m=\u001b[39m xp\u001b[38;5;241m.\u001b[39mconcat([_unique_labels(y) \u001b[38;5;28;01mfor\u001b[39;00m y \u001b[38;5;129;01min\u001b[39;00m ys])\n",
      "\u001b[1;31mValueError\u001b[0m: Unknown label type: (array([9, 11, 7, ..., 23, 26, 29], dtype=object),)"
     ]
    }
   ],
   "source": [
    "from sklearn.naive_bayes import MultinomialNB\n",
    "from sklearn.pipeline import Pipeline\n",
    "from sklearn.metrics import classification_report\n",
    "\n",
    "#1. create a pipeline object\n",
    "clf = Pipeline([\n",
    "     ('vectorizer_bow', CountVectorizer(ngram_range = (1, 1))),        #using the ngram_range parameter \n",
    "     ('Multi NB', MultinomialNB())         \n",
    "])\n",
    "\n",
    "#2. fit with X_train and y_train\n",
    "clf.fit(X_train, y_train)\n",
    "\n",
    "\n",
    "#3. get the predictions for X_test and store it in y_pred\n",
    "y_pred = clf.predict(X_test)\n",
    "\n",
    "\n",
    "#4. print the classfication report\n",
    "print(classification_report(y_test, y_pred))"
   ]
  },
  {
   "cell_type": "code",
   "execution_count": null,
   "id": "fb815010",
   "metadata": {},
   "outputs": [],
   "source": []
  }
 ],
 "metadata": {
  "kernelspec": {
   "display_name": "Python 3 (ipykernel)",
   "language": "python",
   "name": "python3"
  },
  "language_info": {
   "codemirror_mode": {
    "name": "ipython",
    "version": 3
   },
   "file_extension": ".py",
   "mimetype": "text/x-python",
   "name": "python",
   "nbconvert_exporter": "python",
   "pygments_lexer": "ipython3",
   "version": "3.9.16"
  }
 },
 "nbformat": 4,
 "nbformat_minor": 5
}
