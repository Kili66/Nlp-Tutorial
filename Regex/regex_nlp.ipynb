{
 "cells": [
  {
   "cell_type": "code",
   "execution_count": 1,
   "id": "247689c5",
   "metadata": {},
   "outputs": [],
   "source": [
    "import re"
   ]
  },
  {
   "cell_type": "code",
   "execution_count": 9,
   "id": "8326763c",
   "metadata": {
    "scrolled": true
   },
   "outputs": [
    {
     "data": {
      "text/plain": [
       "['(412)-889-9124']"
      ]
     },
     "execution_count": 9,
     "metadata": {},
     "output_type": "execute_result"
    }
   ],
   "source": [
    "chat1='codebasics: Hello, I am having an issue with my order # 412889912'\n",
    "chat2='codebasics: I have a problem with my order number (412)-889-9124'\n",
    "chat3='codebasics: My order 412889912 is having an issue, I was charged 300$ when online it says 280$'\n",
    "\n",
    "pattern='\\d{9}|\\(\\d{3}\\)-\\d{3}-\\d{4}'\n",
    "matches=re.findall(pattern, chat2)\n",
    "matches"
   ]
  },
  {
   "cell_type": "code",
   "execution_count": 15,
   "id": "1ccf435b",
   "metadata": {},
   "outputs": [
    {
     "name": "stdout",
     "output_type": "stream",
     "text": [
      "['123567891'] ['abc@xyz.com']\n"
     ]
    }
   ],
   "source": [
    "chat1 = 'codebasics: you ask lot of questions 😠  1235678912, abc@xyz.com'\n",
    "chat2 = 'codebasics: here it is: (123)-567-8912, abc@xyz.com'\n",
    "chat3 = 'codebasics: yes, phone: 1235678912 email: abc@xyz.com'\n",
    "number='\\d{9}|\\(\\d{3}\\)-\\d{3}-\\d{4}'\n",
    "email='[a-z0-9A-Z_]*@[a-z]*\\.com'\n",
    "match1=re.findall(number, chat1)\n",
    "match2=re.findall(email, chat2)\n",
    "print(match1, match2)"
   ]
  },
  {
   "cell_type": "code",
   "execution_count": 18,
   "id": "00f3ec19",
   "metadata": {},
   "outputs": [
    {
     "data": {
      "text/plain": [
       "['412889912']"
      ]
     },
     "execution_count": 18,
     "metadata": {},
     "output_type": "execute_result"
    }
   ],
   "source": [
    "chat1='codebasics: Hello, I am having an issue with my order # 412889912'\n",
    "chat2='codebasics: I have a problem with my order number 412889912'\n",
    "chat3='codebasics: My order 412889912 is having an issue, I was charged 300$ when online it says 280$'\n",
    "pattern='order[^\\d]*(\\d*)'\n",
    "matches=re.findall(pattern, chat2)\n",
    "matches\n"
   ]
  },
  {
   "cell_type": "markdown",
   "id": "e0374561",
   "metadata": {},
   "source": [
    "### (2) Regex for Information Extraction"
   ]
  },
  {
   "cell_type": "code",
   "execution_count": 24,
   "id": "478894a5",
   "metadata": {},
   "outputs": [
    {
     "name": "stdout",
     "output_type": "stream",
     "text": [
      "name is:  ['Elon Reeve Musk']\n",
      "age is:  ['50']\n",
      "birthdate is:  ['June 28, 1971 ']\n",
      "birthplace is:  ['Pretoria, Transvaal, South Africa']\n"
     ]
    }
   ],
   "source": [
    "text='''\n",
    "Born\tElon Reeve Musk\n",
    "June 28, 1971 (age 50)\n",
    "Pretoria, Transvaal, South Africa\n",
    "Citizenship\t\n",
    "South Africa (1971–present)\n",
    "Canada (1971–present)\n",
    "United States (2002–present)\n",
    "Education\tUniversity of Pennsylvania (BS, BA)\n",
    "Title\t\n",
    "Founder, CEO and Chief Engineer of SpaceX\n",
    "CEO and product architect of Tesla, Inc.\n",
    "Founder of The Boring Company and X.com (now part of PayPal)\n",
    "Co-founder of Neuralink, OpenAI, and Zip2\n",
    "Spouse(s)\t\n",
    "Justine Wilson\n",
    "​\n",
    "​(m. 2000; div. 2008)​\n",
    "Talulah Riley\n",
    "​\n",
    "​(m. 2010; div. 2012)​\n",
    "​\n",
    "​(m. 2013; div. 2016)\n",
    "'''\n",
    "name='Born.(.*)'\n",
    "age='age (\\d+)'\n",
    "date='Born.*\\n(.*)\\(age.'\n",
    "birthplace='\\(age.*\\n(.*)'\n",
    "\n",
    "print('name is: ', re.findall(name, text))\n",
    "print('age is: ', re.findall(age, text))\n",
    "print('birthdate is: ', re.findall(date, text))\n",
    "print('birthplace is: ', re.findall(birthplace, text))"
   ]
  },
  {
   "cell_type": "code",
   "execution_count": 25,
   "id": "b3644c9e",
   "metadata": {},
   "outputs": [],
   "source": [
    "def get_pattern(pattern, text):\n",
    "    matches= re.findall(pattern, text)\n",
    "    if matches:\n",
    "        return matches[0]"
   ]
  },
  {
   "cell_type": "code",
   "execution_count": 34,
   "id": "1b11772e",
   "metadata": {},
   "outputs": [],
   "source": [
    "def get_personal_info(text):\n",
    "    name=get_pattern('Born.(.*)', text)\n",
    "    age=get_pattern('age (\\d+)',text)\n",
    "    date=get_pattern('Born.*\\n(.*)\\(age.', text)\n",
    "    birthplace=get_pattern('\\(age.*\\n(.*)', text)\n",
    "    return{\n",
    "        'name': name,\n",
    "        'age': int(age),\n",
    "        'date': date,\n",
    "        'birthplace': birthplace\n",
    "    }"
   ]
  },
  {
   "cell_type": "code",
   "execution_count": 35,
   "id": "8d5dc6ed",
   "metadata": {},
   "outputs": [
    {
     "data": {
      "text/plain": [
       "{'name': 'Elon Reeve Musk',\n",
       " 'age': 50,\n",
       " 'date': 'June 28, 1971 ',\n",
       " 'birthplace': 'Pretoria, Transvaal, South Africa'}"
      ]
     },
     "execution_count": 35,
     "metadata": {},
     "output_type": "execute_result"
    }
   ],
   "source": [
    "get_personal_info(text)"
   ]
  },
  {
   "cell_type": "code",
   "execution_count": null,
   "id": "d5c0e335",
   "metadata": {},
   "outputs": [],
   "source": []
  },
  {
   "cell_type": "code",
   "execution_count": null,
   "id": "1b0706d4",
   "metadata": {},
   "outputs": [],
   "source": []
  }
 ],
 "metadata": {
  "kernelspec": {
   "display_name": "Python 3 (ipykernel)",
   "language": "python",
   "name": "python3"
  },
  "language_info": {
   "codemirror_mode": {
    "name": "ipython",
    "version": 3
   },
   "file_extension": ".py",
   "mimetype": "text/x-python",
   "name": "python",
   "nbconvert_exporter": "python",
   "pygments_lexer": "ipython3",
   "version": "3.9.16"
  }
 },
 "nbformat": 4,
 "nbformat_minor": 5
}
